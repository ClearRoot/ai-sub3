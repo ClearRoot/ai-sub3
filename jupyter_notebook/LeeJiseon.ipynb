{
 "cells": [
  {
   "cell_type": "code",
   "execution_count": 2,
   "metadata": {},
   "outputs": [],
   "source": [
    "# Req 1-1-1. 데이터를 읽고 트레이닝 셋과 테스트 셋으로 분리\n",
    "def load_data():\n",
    "    db = pd.read_csv(\"./data_in/ChatBotData.csv\")\n",
    "    train, test = train_test_split(db)\n",
    "    train_q, train_a = train[\"Q\"], train[\"A\"]\n",
    "    test_q, test_a = test[\"Q\"], test[\"A\"]\n",
    "    \n",
    "    return train_q, train_a, test_q, test_a"
   ]
  },
  {
   "cell_type": "code",
   "execution_count": 3,
   "metadata": {},
   "outputs": [],
   "source": [
    "# Req 1-1-2. 텍스트 데이터에 정규화를 사용하여 ([~.,!?\\\"':;)(]) 제거\n",
    "def prepro_noise_canceling(data):\n",
    "    data = re.sub(\"[~.,!?\\\"':;)(]\", \"\", data)\n",
    "\n",
    "    return data"
   ]
  }
 ],
 "metadata": {
  "kernelspec": {
   "display_name": "Python 3",
   "language": "python",
   "name": "python3"
  },
  "language_info": {
   "codemirror_mode": {
    "name": "ipython",
    "version": 3
   },
   "file_extension": ".py",
   "mimetype": "text/x-python",
   "name": "python",
   "nbconvert_exporter": "python",
   "pygments_lexer": "ipython3",
   "version": "3.7.3"
  }
 },
 "nbformat": 4,
 "nbformat_minor": 2
}
