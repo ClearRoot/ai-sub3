{
 "cells": [
  {
   "cell_type": "code",
   "execution_count": null,
   "metadata": {},
   "outputs": [],
   "source": [
    "def load_data():\n",
    "    db = pd.read_csv(\"./data_in/ChatBotData.csv\")\n",
    "    train, test = train_test_split(db)\n",
    "    train_q, train_a = train[\"Q\"], train[\"A\"]\n",
    "    test_q, test_a = test[\"Q\"], test[\"A\"]\n",
    "    \n",
    "    return train_q, train_a, test_q, test_a"
   ]
  },
  {
   "cell_type": "code",
   "execution_count": null,
   "metadata": {},
   "outputs": [],
   "source": [
    "def prepro_noise_canceling(data):\n",
    "    data = re.sub(\"[~.,!?\\\"':;)(]\", \"\", data)\n",
    "\n",
    "    return data"
   ]
  },
  {
   "cell_type": "code",
   "execution_count": null,
   "metadata": {},
   "outputs": [],
   "source": [
    "def tokenizing_data(data):\n",
    "    kkma = Kkma()\n",
    "    tokens_list = []\n",
    "    \n",
    "    for d in tqdm(data):\n",
    "        tokens = \" \".join(kkma.morphs(d.replace(\" \", \"\")))\n",
    "        tokens_list.append(tokens)\n",
    "    \n",
    "    return tokens_list"
   ]
  }
 ],
 "metadata": {
  "kernelspec": {
   "display_name": "Python 3",
   "language": "python",
   "name": "python3"
  },
  "language_info": {
   "codemirror_mode": {
    "name": "ipython",
    "version": 3
   },
   "file_extension": ".py",
   "mimetype": "text/x-python",
   "name": "python",
   "nbconvert_exporter": "python",
   "pygments_lexer": "ipython3",
   "version": "3.7.3"
  }
 },
 "nbformat": 4,
 "nbformat_minor": 2
}
