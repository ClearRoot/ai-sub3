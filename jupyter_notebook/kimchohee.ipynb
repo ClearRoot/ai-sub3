{
 "cells": [
  {
   "cell_type": "code",
   "execution_count": null,
   "metadata": {},
   "outputs": [],
   "source": [
    "def load_data():\n",
    "    db = pd.read_csv(\"./data_in/ChatBotData.csv\")\n",
    "    train, test = train_test_split(db)\n",
    "    train_q, train_a = train[\"Q\"], train[\"A\"]\n",
    "    test_q, test_a = test[\"Q\"], test[\"A\"]\n",
    "    \n",
    "    return train_q, train_a, test_q, test_a"
   ]
  },
  {
   "cell_type": "code",
   "execution_count": null,
   "metadata": {},
   "outputs": [],
   "source": [
    "def enc_processing(value, dictionary):\n",
    "    \n",
    "    # 인덱스 정보를 저장할 배열 초기화\n",
    "    seq_input_index = []\n",
    "    # 문장의 길이를 저장할 배열 초기화\n",
    "    seq_len = []\n",
    "    # 노이즈 캔슬\n",
    "    value = prepro_noise_canceling(value)\n",
    "    \n",
    "    for seq in value:\n",
    "        \n",
    "        # 하나의 seq에 index를 저장할 배열 초기화\n",
    "        seq_index =[]\n",
    "        \n",
    "        for word in seq.split():\n",
    "            if dictionary.get(word) is not None:\n",
    "                # seq_index에 dictionary 안의 인덱스를 extend 한다\n",
    "            else:\n",
    "                seq_index.append(dictionary[UNK])\n",
    "                # dictionary에 존재 하지 않는 다면 UNK 값을 extend 한다 \n",
    "                \n",
    "        # 문장 제한 길이보다 길어질 경우 뒤에 토큰을 제거\n",
    "        if len(seq_index) > DEFINES.max_sequence_length:\n",
    "            seq_index = seq_index[:DEFINES.max_sequence_length]\n",
    "            \n",
    "        # seq의 길이를 저장\n",
    "        seq_len.append(None)\n",
    "        \n",
    "        # DEFINES.max_sequence_length 길이보다 작은 경우 PAD 값을 추가 (padding)\n",
    "        seq_index += None\n",
    "        \n",
    "        # 인덱스화 되어 있는 값은 seq_input_index에 추가\n",
    "        seq_input_index.append(None)\n",
    "        \n",
    "    return None"
   ]
  }
 ],
 "metadata": {
  "kernelspec": {
   "display_name": "Python 3",
   "language": "python",
   "name": "python3"
  },
  "language_info": {
   "codemirror_mode": {
    "name": "ipython",
    "version": 3
   },
   "file_extension": ".py",
   "mimetype": "text/x-python",
   "name": "python",
   "nbconvert_exporter": "python",
   "pygments_lexer": "ipython3",
   "version": "3.6.9"
  }
 },
 "nbformat": 4,
 "nbformat_minor": 2
}
